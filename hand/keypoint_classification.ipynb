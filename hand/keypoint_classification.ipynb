{
 "cells": [
  {
   "cell_type": "code",
   "execution_count": 1,
   "metadata": {},
   "outputs": [
    {
     "name": "stdout",
     "output_type": "stream",
     "text": [
      "WARNING:tensorflow:From D:\\anaconda\\envs\\cv311\\Lib\\site-packages\\keras\\src\\losses.py:2976: The name tf.losses.sparse_softmax_cross_entropy is deprecated. Please use tf.compat.v1.losses.sparse_softmax_cross_entropy instead.\n",
      "\n"
     ]
    }
   ],
   "source": [
    "import csv\n",
    "\n",
    "import numpy as np\n",
    "import tensorflow as tf\n",
    "from sklearn.model_selection import train_test_split\n",
    "\n",
    "RANDOM_SEED = 42"
   ]
  },
  {
   "cell_type": "markdown",
   "metadata": {},
   "source": [
    "# 文件路径"
   ]
  },
  {
   "cell_type": "code",
   "execution_count": 2,
   "metadata": {},
   "outputs": [],
   "source": [
    "dataset = 'model/keypoint_classifier/keypoint.csv'\n",
    "model_save_path = 'model/keypoint_classifier/keypoint_classifier.hdf5'"
   ]
  },
  {
   "cell_type": "markdown",
   "metadata": {},
   "source": [
    "# 设置分类数"
   ]
  },
  {
   "cell_type": "code",
   "execution_count": 3,
   "metadata": {},
   "outputs": [],
   "source": [
    "NUM_CLASSES = 6"
   ]
  },
  {
   "cell_type": "markdown",
   "metadata": {},
   "source": [
    "# 读入学习数据"
   ]
  },
  {
   "cell_type": "code",
   "execution_count": 4,
   "metadata": {},
   "outputs": [],
   "source": [
    "X_dataset = np.loadtxt(dataset, delimiter=',', dtype='float32', usecols=list(range(1, (21 * 2) + 1)))"
   ]
  },
  {
   "cell_type": "code",
   "execution_count": 5,
   "metadata": {},
   "outputs": [],
   "source": [
    "y_dataset = np.loadtxt(dataset, delimiter=',', dtype='int32', usecols=(0))"
   ]
  },
  {
   "cell_type": "code",
   "execution_count": 6,
   "metadata": {},
   "outputs": [],
   "source": [
    "X_train, X_test, y_train, y_test = train_test_split(X_dataset, y_dataset, train_size=0.75, random_state=RANDOM_SEED)"
   ]
  },
  {
   "cell_type": "markdown",
   "metadata": {},
   "source": [
    "# 构建模型"
   ]
  },
  {
   "cell_type": "code",
   "execution_count": 7,
   "metadata": {},
   "outputs": [
    {
     "name": "stdout",
     "output_type": "stream",
     "text": [
      "WARNING:tensorflow:From D:\\anaconda\\envs\\cv311\\Lib\\site-packages\\keras\\src\\backend.py:1398: The name tf.executing_eagerly_outside_functions is deprecated. Please use tf.compat.v1.executing_eagerly_outside_functions instead.\n",
      "\n"
     ]
    }
   ],
   "source": [
    "model = tf.keras.models.Sequential([\n",
    "    tf.keras.layers.Input((21 * 2, )),\n",
    "    tf.keras.layers.Dropout(0.2),\n",
    "    tf.keras.layers.Dense(20, activation='relu'),\n",
    "    tf.keras.layers.Dropout(0.4),\n",
    "    tf.keras.layers.Dense(10, activation='relu'),\n",
    "    tf.keras.layers.Dense(NUM_CLASSES, activation='softmax')\n",
    "])"
   ]
  },
  {
   "cell_type": "code",
   "execution_count": 8,
   "metadata": {},
   "outputs": [
    {
     "name": "stdout",
     "output_type": "stream",
     "text": [
      "Model: \"sequential\"\n",
      "_________________________________________________________________\n",
      " Layer (type)                Output Shape              Param #   \n",
      "=================================================================\n",
      " dropout (Dropout)           (None, 42)                0         \n",
      "                                                                 \n",
      " dense (Dense)               (None, 20)                860       \n",
      "                                                                 \n",
      " dropout_1 (Dropout)         (None, 20)                0         \n",
      "                                                                 \n",
      " dense_1 (Dense)             (None, 10)                210       \n",
      "                                                                 \n",
      " dense_2 (Dense)             (None, 6)                 66        \n",
      "                                                                 \n",
      "=================================================================\n",
      "Total params: 1136 (4.44 KB)\n",
      "Trainable params: 1136 (4.44 KB)\n",
      "Non-trainable params: 0 (0.00 Byte)\n",
      "_________________________________________________________________\n"
     ]
    }
   ],
   "source": [
    "model.summary()  # tf.keras.utils.plot_model(model, show_shapes=True)"
   ]
  },
  {
   "cell_type": "code",
   "execution_count": 9,
   "metadata": {},
   "outputs": [],
   "source": [
    "# 模型检查点的回调\n",
    "cp_callback = tf.keras.callbacks.ModelCheckpoint(\n",
    "    model_save_path, verbose=1, save_weights_only=False)\n",
    "# 早期终止用回拨\n",
    "es_callback = tf.keras.callbacks.EarlyStopping(patience=20, verbose=1)"
   ]
  },
  {
   "cell_type": "code",
   "execution_count": 10,
   "metadata": {},
   "outputs": [
    {
     "name": "stdout",
     "output_type": "stream",
     "text": [
      "WARNING:tensorflow:From D:\\anaconda\\envs\\cv311\\Lib\\site-packages\\keras\\src\\optimizers\\__init__.py:309: The name tf.train.Optimizer is deprecated. Please use tf.compat.v1.train.Optimizer instead.\n",
      "\n"
     ]
    }
   ],
   "source": [
    "# 模型编译\n",
    "model.compile(\n",
    "    optimizer='adam',\n",
    "    loss='sparse_categorical_crossentropy',\n",
    "    metrics=['accuracy']\n",
    ")"
   ]
  },
  {
   "cell_type": "markdown",
   "metadata": {},
   "source": [
    "# 训练"
   ]
  },
  {
   "cell_type": "code",
   "execution_count": 11,
   "metadata": {
    "scrolled": true
   },
   "outputs": [
    {
     "name": "stdout",
     "output_type": "stream",
     "text": [
      "Epoch 1/1000\n",
      "WARNING:tensorflow:From D:\\anaconda\\envs\\cv311\\Lib\\site-packages\\keras\\src\\utils\\tf_utils.py:492: The name tf.ragged.RaggedTensorValue is deprecated. Please use tf.compat.v1.ragged.RaggedTensorValue instead.\n",
      "\n",
      "WARNING:tensorflow:From D:\\anaconda\\envs\\cv311\\Lib\\site-packages\\keras\\src\\engine\\base_layer_utils.py:384: The name tf.executing_eagerly_outside_functions is deprecated. Please use tf.compat.v1.executing_eagerly_outside_functions instead.\n",
      "\n",
      "42/49 [========================>.....] - ETA: 0s - loss: 1.7503 - accuracy: 0.2241 \n",
      "Epoch 1: saving model to model/keypoint_classifier\\keypoint_classifier.hdf5\n",
      "49/49 [==============================] - 1s 5ms/step - loss: 1.7404 - accuracy: 0.2330 - val_loss: 1.6056 - val_accuracy: 0.5430\n",
      "Epoch 2/1000\n",
      "44/49 [=========================>....] - ETA: 0s - loss: 1.5998 - accuracy: 0.3493\n",
      "Epoch 2: saving model to model/keypoint_classifier\\keypoint_classifier.hdf5\n",
      "49/49 [==============================] - 0s 2ms/step - loss: 1.5957 - accuracy: 0.3514 - val_loss: 1.4288 - val_accuracy: 0.5763\n",
      "Epoch 3/1000\n",
      "47/49 [===========================>..] - ETA: 0s - loss: 1.4542 - accuracy: 0.4255"
     ]
    },
    {
     "name": "stderr",
     "output_type": "stream",
     "text": [
      "D:\\anaconda\\envs\\cv311\\Lib\\site-packages\\keras\\src\\engine\\training.py:3103: UserWarning: You are saving your model as an HDF5 file via `model.save()`. This file format is considered legacy. We recommend using instead the native Keras format, e.g. `model.save('my_model.keras')`.\n",
      "  saving_api.save_model(\n"
     ]
    },
    {
     "name": "stdout",
     "output_type": "stream",
     "text": [
      "\n",
      "Epoch 3: saving model to model/keypoint_classifier\\keypoint_classifier.hdf5\n",
      "49/49 [==============================] - 0s 2ms/step - loss: 1.4528 - accuracy: 0.4261 - val_loss: 1.2312 - val_accuracy: 0.6559\n",
      "Epoch 4/1000\n",
      " 1/49 [..............................] - ETA: 0s - loss: 1.3644 - accuracy: 0.4844\n",
      "Epoch 4: saving model to model/keypoint_classifier\\keypoint_classifier.hdf5\n",
      "49/49 [==============================] - 0s 2ms/step - loss: 1.3118 - accuracy: 0.4962 - val_loss: 1.0438 - val_accuracy: 0.6853\n",
      "Epoch 5/1000\n",
      " 1/49 [..............................] - ETA: 0s - loss: 1.2793 - accuracy: 0.4922\n",
      "Epoch 5: saving model to model/keypoint_classifier\\keypoint_classifier.hdf5\n",
      "49/49 [==============================] - 0s 2ms/step - loss: 1.1951 - accuracy: 0.5311 - val_loss: 0.9185 - val_accuracy: 0.7075\n",
      "Epoch 6/1000\n",
      " 1/49 [..............................] - ETA: 0s - loss: 1.1549 - accuracy: 0.5078\n",
      "Epoch 6: saving model to model/keypoint_classifier\\keypoint_classifier.hdf5\n",
      "49/49 [==============================] - 0s 2ms/step - loss: 1.1162 - accuracy: 0.5475 - val_loss: 0.8252 - val_accuracy: 0.7413\n",
      "Epoch 7/1000\n",
      " 1/49 [..............................] - ETA: 0s - loss: 1.0574 - accuracy: 0.5547\n",
      "Epoch 7: saving model to model/keypoint_classifier\\keypoint_classifier.hdf5\n",
      "49/49 [==============================] - 0s 2ms/step - loss: 1.0709 - accuracy: 0.5752 - val_loss: 0.7682 - val_accuracy: 0.7708\n",
      "Epoch 8/1000\n",
      " 1/49 [..............................] - ETA: 0s - loss: 1.1142 - accuracy: 0.5781\n",
      "Epoch 8: saving model to model/keypoint_classifier\\keypoint_classifier.hdf5\n",
      "49/49 [==============================] - 0s 2ms/step - loss: 1.0244 - accuracy: 0.5913 - val_loss: 0.7192 - val_accuracy: 0.7722\n",
      "Epoch 9/1000\n",
      " 1/49 [..............................] - ETA: 0s - loss: 1.0001 - accuracy: 0.6016\n",
      "Epoch 9: saving model to model/keypoint_classifier\\keypoint_classifier.hdf5\n",
      "49/49 [==============================] - 0s 2ms/step - loss: 0.9654 - accuracy: 0.6175 - val_loss: 0.6736 - val_accuracy: 0.7819\n",
      "Epoch 10/1000\n",
      " 1/49 [..............................] - ETA: 0s - loss: 0.8725 - accuracy: 0.7109\n",
      "Epoch 10: saving model to model/keypoint_classifier\\keypoint_classifier.hdf5\n",
      "49/49 [==============================] - 0s 2ms/step - loss: 0.9453 - accuracy: 0.6291 - val_loss: 0.6374 - val_accuracy: 0.7910\n",
      "Epoch 11/1000\n",
      " 1/49 [..............................] - ETA: 0s - loss: 0.9328 - accuracy: 0.6250\n",
      "Epoch 11: saving model to model/keypoint_classifier\\keypoint_classifier.hdf5\n",
      "49/49 [==============================] - 0s 2ms/step - loss: 0.9251 - accuracy: 0.6286 - val_loss: 0.6125 - val_accuracy: 0.7920\n",
      "Epoch 12/1000\n",
      " 1/49 [..............................] - ETA: 0s - loss: 0.8487 - accuracy: 0.6328\n",
      "Epoch 12: saving model to model/keypoint_classifier\\keypoint_classifier.hdf5\n",
      "49/49 [==============================] - 0s 2ms/step - loss: 0.8966 - accuracy: 0.6483 - val_loss: 0.5830 - val_accuracy: 0.8055\n",
      "Epoch 13/1000\n",
      " 1/49 [..............................] - ETA: 0s - loss: 0.9624 - accuracy: 0.5703\n",
      "Epoch 13: saving model to model/keypoint_classifier\\keypoint_classifier.hdf5\n",
      "49/49 [==============================] - 0s 2ms/step - loss: 0.8632 - accuracy: 0.6605 - val_loss: 0.5538 - val_accuracy: 0.8171\n",
      "Epoch 14/1000\n",
      "48/49 [============================>.] - ETA: 0s - loss: 0.8624 - accuracy: 0.6652\n",
      "Epoch 14: saving model to model/keypoint_classifier\\keypoint_classifier.hdf5\n",
      "49/49 [==============================] - 0s 2ms/step - loss: 0.8616 - accuracy: 0.6652 - val_loss: 0.5393 - val_accuracy: 0.8311\n",
      "Epoch 15/1000\n",
      " 1/49 [..............................] - ETA: 0s - loss: 0.7281 - accuracy: 0.7656\n",
      "Epoch 15: saving model to model/keypoint_classifier\\keypoint_classifier.hdf5\n",
      "49/49 [==============================] - 0s 2ms/step - loss: 0.8507 - accuracy: 0.6648 - val_loss: 0.5357 - val_accuracy: 0.8668\n",
      "Epoch 16/1000\n",
      "49/49 [==============================] - ETA: 0s - loss: 0.8310 - accuracy: 0.6759\n",
      "Epoch 16: saving model to model/keypoint_classifier\\keypoint_classifier.hdf5\n",
      "49/49 [==============================] - 0s 2ms/step - loss: 0.8310 - accuracy: 0.6759 - val_loss: 0.4974 - val_accuracy: 0.8533\n",
      "Epoch 17/1000\n",
      " 1/49 [..............................] - ETA: 0s - loss: 0.8348 - accuracy: 0.6562\n",
      "Epoch 17: saving model to model/keypoint_classifier\\keypoint_classifier.hdf5\n",
      "49/49 [==============================] - 0s 2ms/step - loss: 0.8048 - accuracy: 0.6874 - val_loss: 0.4820 - val_accuracy: 0.8542\n",
      "Epoch 18/1000\n",
      "48/49 [============================>.] - ETA: 0s - loss: 0.8133 - accuracy: 0.6831\n",
      "Epoch 18: saving model to model/keypoint_classifier\\keypoint_classifier.hdf5\n",
      "49/49 [==============================] - 0s 2ms/step - loss: 0.8125 - accuracy: 0.6832 - val_loss: 0.4752 - val_accuracy: 0.8610\n",
      "Epoch 19/1000\n",
      "49/49 [==============================] - ETA: 0s - loss: 0.7777 - accuracy: 0.6985\n",
      "Epoch 19: saving model to model/keypoint_classifier\\keypoint_classifier.hdf5\n",
      "49/49 [==============================] - 0s 2ms/step - loss: 0.7777 - accuracy: 0.6985 - val_loss: 0.4568 - val_accuracy: 0.8904\n",
      "Epoch 20/1000\n",
      " 1/49 [..............................] - ETA: 0s - loss: 0.7632 - accuracy: 0.6797\n",
      "Epoch 20: saving model to model/keypoint_classifier\\keypoint_classifier.hdf5\n",
      "49/49 [==============================] - 0s 2ms/step - loss: 0.7873 - accuracy: 0.6922 - val_loss: 0.4518 - val_accuracy: 0.8726\n",
      "Epoch 21/1000\n",
      " 1/49 [..............................] - ETA: 0s - loss: 0.7794 - accuracy: 0.6562\n",
      "Epoch 21: saving model to model/keypoint_classifier\\keypoint_classifier.hdf5\n",
      "49/49 [==============================] - 0s 2ms/step - loss: 0.7664 - accuracy: 0.6988 - val_loss: 0.4435 - val_accuracy: 0.8764\n",
      "Epoch 22/1000\n",
      " 1/49 [..............................] - ETA: 0s - loss: 0.8650 - accuracy: 0.6953\n",
      "Epoch 22: saving model to model/keypoint_classifier\\keypoint_classifier.hdf5\n",
      "49/49 [==============================] - 0s 2ms/step - loss: 0.7662 - accuracy: 0.7039 - val_loss: 0.4311 - val_accuracy: 0.8639\n",
      "Epoch 23/1000\n",
      " 1/49 [..............................] - ETA: 0s - loss: 0.7362 - accuracy: 0.6875\n",
      "Epoch 23: saving model to model/keypoint_classifier\\keypoint_classifier.hdf5\n",
      "49/49 [==============================] - 0s 2ms/step - loss: 0.7539 - accuracy: 0.7070 - val_loss: 0.4163 - val_accuracy: 0.8605\n",
      "Epoch 24/1000\n",
      "48/49 [============================>.] - ETA: 0s - loss: 0.7563 - accuracy: 0.7064\n",
      "Epoch 24: saving model to model/keypoint_classifier\\keypoint_classifier.hdf5\n",
      "49/49 [==============================] - 0s 2ms/step - loss: 0.7582 - accuracy: 0.7060 - val_loss: 0.4200 - val_accuracy: 0.9165\n",
      "Epoch 25/1000\n",
      " 1/49 [..............................] - ETA: 0s - loss: 0.8814 - accuracy: 0.6328\n",
      "Epoch 25: saving model to model/keypoint_classifier\\keypoint_classifier.hdf5\n",
      "49/49 [==============================] - 0s 2ms/step - loss: 0.7499 - accuracy: 0.7044 - val_loss: 0.4101 - val_accuracy: 0.8948\n",
      "Epoch 26/1000\n",
      " 1/49 [..............................] - ETA: 0s - loss: 0.6814 - accuracy: 0.7656\n",
      "Epoch 26: saving model to model/keypoint_classifier\\keypoint_classifier.hdf5\n",
      "49/49 [==============================] - 0s 2ms/step - loss: 0.7394 - accuracy: 0.7147 - val_loss: 0.4040 - val_accuracy: 0.8875\n",
      "Epoch 27/1000\n",
      " 1/49 [..............................] - ETA: 0s - loss: 0.7882 - accuracy: 0.6328\n",
      "Epoch 27: saving model to model/keypoint_classifier\\keypoint_classifier.hdf5\n",
      "49/49 [==============================] - 0s 2ms/step - loss: 0.7326 - accuracy: 0.7207 - val_loss: 0.3922 - val_accuracy: 0.8967\n",
      "Epoch 28/1000\n",
      " 1/49 [..............................] - ETA: 0s - loss: 0.6987 - accuracy: 0.7188\n",
      "Epoch 28: saving model to model/keypoint_classifier\\keypoint_classifier.hdf5\n",
      "49/49 [==============================] - 0s 2ms/step - loss: 0.7375 - accuracy: 0.7202 - val_loss: 0.3947 - val_accuracy: 0.9030\n",
      "Epoch 29/1000\n",
      " 1/49 [..............................] - ETA: 0s - loss: 0.6578 - accuracy: 0.7656\n",
      "Epoch 29: saving model to model/keypoint_classifier\\keypoint_classifier.hdf5\n",
      "49/49 [==============================] - 0s 2ms/step - loss: 0.7196 - accuracy: 0.7263 - val_loss: 0.3753 - val_accuracy: 0.9257\n",
      "Epoch 30/1000\n",
      "48/49 [============================>.] - ETA: 0s - loss: 0.7233 - accuracy: 0.7168\n",
      "Epoch 30: saving model to model/keypoint_classifier\\keypoint_classifier.hdf5\n"
     ]
    },
    {
     "name": "stdout",
     "output_type": "stream",
     "text": [
      "49/49 [==============================] - 0s 2ms/step - loss: 0.7228 - accuracy: 0.7170 - val_loss: 0.3855 - val_accuracy: 0.8866\n",
      "Epoch 31/1000\n",
      " 1/49 [..............................] - ETA: 0s - loss: 0.6678 - accuracy: 0.7266\n",
      "Epoch 31: saving model to model/keypoint_classifier\\keypoint_classifier.hdf5\n",
      "49/49 [==============================] - 0s 2ms/step - loss: 0.7118 - accuracy: 0.7236 - val_loss: 0.3665 - val_accuracy: 0.9228\n",
      "Epoch 32/1000\n",
      " 1/49 [..............................] - ETA: 0s - loss: 0.6671 - accuracy: 0.7812\n",
      "Epoch 32: saving model to model/keypoint_classifier\\keypoint_classifier.hdf5\n",
      "49/49 [==============================] - 0s 2ms/step - loss: 0.7088 - accuracy: 0.7286 - val_loss: 0.3660 - val_accuracy: 0.9151\n",
      "Epoch 33/1000\n",
      " 1/49 [..............................] - ETA: 0s - loss: 0.7309 - accuracy: 0.7109\n",
      "Epoch 33: saving model to model/keypoint_classifier\\keypoint_classifier.hdf5\n",
      "49/49 [==============================] - 0s 2ms/step - loss: 0.6998 - accuracy: 0.7265 - val_loss: 0.3556 - val_accuracy: 0.9300\n",
      "Epoch 34/1000\n",
      " 1/49 [..............................] - ETA: 0s - loss: 0.7536 - accuracy: 0.7109\n",
      "Epoch 34: saving model to model/keypoint_classifier\\keypoint_classifier.hdf5\n",
      "49/49 [==============================] - 0s 2ms/step - loss: 0.7132 - accuracy: 0.7207 - val_loss: 0.3539 - val_accuracy: 0.9189\n",
      "Epoch 35/1000\n",
      " 1/49 [..............................] - ETA: 0s - loss: 0.6625 - accuracy: 0.7578\n",
      "Epoch 35: saving model to model/keypoint_classifier\\keypoint_classifier.hdf5\n",
      "49/49 [==============================] - 0s 2ms/step - loss: 0.6928 - accuracy: 0.7289 - val_loss: 0.3496 - val_accuracy: 0.9291\n",
      "Epoch 36/1000\n",
      " 1/49 [..............................] - ETA: 0s - loss: 0.7457 - accuracy: 0.7031\n",
      "Epoch 36: saving model to model/keypoint_classifier\\keypoint_classifier.hdf5\n",
      "49/49 [==============================] - 0s 2ms/step - loss: 0.6749 - accuracy: 0.7352 - val_loss: 0.3435 - val_accuracy: 0.9184\n",
      "Epoch 37/1000\n",
      " 1/49 [..............................] - ETA: 0s - loss: 0.6970 - accuracy: 0.7266\n",
      "Epoch 37: saving model to model/keypoint_classifier\\keypoint_classifier.hdf5\n",
      "49/49 [==============================] - 0s 2ms/step - loss: 0.6725 - accuracy: 0.7361 - val_loss: 0.3386 - val_accuracy: 0.9175\n",
      "Epoch 38/1000\n",
      " 1/49 [..............................] - ETA: 0s - loss: 0.6305 - accuracy: 0.7891\n",
      "Epoch 38: saving model to model/keypoint_classifier\\keypoint_classifier.hdf5\n",
      "49/49 [==============================] - 0s 2ms/step - loss: 0.6771 - accuracy: 0.7392 - val_loss: 0.3331 - val_accuracy: 0.9281\n",
      "Epoch 39/1000\n",
      " 1/49 [..............................] - ETA: 0s - loss: 0.5414 - accuracy: 0.7969\n",
      "Epoch 39: saving model to model/keypoint_classifier\\keypoint_classifier.hdf5\n",
      "49/49 [==============================] - 0s 2ms/step - loss: 0.6620 - accuracy: 0.7493 - val_loss: 0.3263 - val_accuracy: 0.9276\n",
      "Epoch 40/1000\n",
      " 1/49 [..............................] - ETA: 0s - loss: 0.6709 - accuracy: 0.7266\n",
      "Epoch 40: saving model to model/keypoint_classifier\\keypoint_classifier.hdf5\n",
      "49/49 [==============================] - 0s 2ms/step - loss: 0.6747 - accuracy: 0.7350 - val_loss: 0.3315 - val_accuracy: 0.9281\n",
      "Epoch 41/1000\n",
      " 1/49 [..............................] - ETA: 0s - loss: 0.6154 - accuracy: 0.7500\n",
      "Epoch 41: saving model to model/keypoint_classifier\\keypoint_classifier.hdf5\n",
      "49/49 [==============================] - 0s 2ms/step - loss: 0.6670 - accuracy: 0.7419 - val_loss: 0.3255 - val_accuracy: 0.9266\n",
      "Epoch 42/1000\n",
      " 1/49 [..............................] - ETA: 0s - loss: 0.5709 - accuracy: 0.7500\n",
      "Epoch 42: saving model to model/keypoint_classifier\\keypoint_classifier.hdf5\n",
      "49/49 [==============================] - 0s 2ms/step - loss: 0.6704 - accuracy: 0.7432 - val_loss: 0.3278 - val_accuracy: 0.9300\n",
      "Epoch 43/1000\n",
      " 1/49 [..............................] - ETA: 0s - loss: 0.6197 - accuracy: 0.7266\n",
      "Epoch 43: saving model to model/keypoint_classifier\\keypoint_classifier.hdf5\n",
      "49/49 [==============================] - 0s 2ms/step - loss: 0.6754 - accuracy: 0.7384 - val_loss: 0.3268 - val_accuracy: 0.9242\n",
      "Epoch 44/1000\n",
      "49/49 [==============================] - ETA: 0s - loss: 0.6607 - accuracy: 0.7368\n",
      "Epoch 44: saving model to model/keypoint_classifier\\keypoint_classifier.hdf5\n",
      "49/49 [==============================] - 0s 2ms/step - loss: 0.6607 - accuracy: 0.7368 - val_loss: 0.3192 - val_accuracy: 0.9271\n",
      "Epoch 45/1000\n",
      " 1/49 [..............................] - ETA: 0s - loss: 0.7399 - accuracy: 0.7109\n",
      "Epoch 45: saving model to model/keypoint_classifier\\keypoint_classifier.hdf5\n",
      "49/49 [==============================] - 0s 2ms/step - loss: 0.6517 - accuracy: 0.7469 - val_loss: 0.3063 - val_accuracy: 0.9344\n",
      "Epoch 46/1000\n",
      "48/49 [============================>.] - ETA: 0s - loss: 0.6626 - accuracy: 0.7420\n",
      "Epoch 46: saving model to model/keypoint_classifier\\keypoint_classifier.hdf5\n",
      "49/49 [==============================] - 0s 2ms/step - loss: 0.6623 - accuracy: 0.7418 - val_loss: 0.3117 - val_accuracy: 0.9319\n",
      "Epoch 47/1000\n",
      " 1/49 [..............................] - ETA: 0s - loss: 0.5416 - accuracy: 0.8516\n",
      "Epoch 47: saving model to model/keypoint_classifier\\keypoint_classifier.hdf5\n",
      "49/49 [==============================] - 0s 2ms/step - loss: 0.6635 - accuracy: 0.7498 - val_loss: 0.3167 - val_accuracy: 0.9286\n",
      "Epoch 48/1000\n",
      " 1/49 [..............................] - ETA: 0s - loss: 0.6168 - accuracy: 0.7578\n",
      "Epoch 48: saving model to model/keypoint_classifier\\keypoint_classifier.hdf5\n",
      "49/49 [==============================] - 0s 2ms/step - loss: 0.6485 - accuracy: 0.7487 - val_loss: 0.3173 - val_accuracy: 0.9319\n",
      "Epoch 49/1000\n",
      " 1/49 [..............................] - ETA: 0s - loss: 0.7753 - accuracy: 0.6953\n",
      "Epoch 49: saving model to model/keypoint_classifier\\keypoint_classifier.hdf5\n",
      "49/49 [==============================] - 0s 2ms/step - loss: 0.6333 - accuracy: 0.7577 - val_loss: 0.3091 - val_accuracy: 0.9276\n",
      "Epoch 50/1000\n",
      " 1/49 [..............................] - ETA: 0s - loss: 0.6759 - accuracy: 0.7969\n",
      "Epoch 50: saving model to model/keypoint_classifier\\keypoint_classifier.hdf5\n",
      "49/49 [==============================] - 0s 2ms/step - loss: 0.6365 - accuracy: 0.7632 - val_loss: 0.3022 - val_accuracy: 0.9339\n",
      "Epoch 51/1000\n",
      " 1/49 [..............................] - ETA: 0s - loss: 0.6001 - accuracy: 0.7734\n",
      "Epoch 51: saving model to model/keypoint_classifier\\keypoint_classifier.hdf5\n",
      "49/49 [==============================] - 0s 2ms/step - loss: 0.6410 - accuracy: 0.7479 - val_loss: 0.3137 - val_accuracy: 0.9257\n",
      "Epoch 52/1000\n",
      " 1/49 [..............................] - ETA: 0s - loss: 0.7504 - accuracy: 0.7188\n",
      "Epoch 52: saving model to model/keypoint_classifier\\keypoint_classifier.hdf5\n",
      "49/49 [==============================] - 0s 2ms/step - loss: 0.6519 - accuracy: 0.7496 - val_loss: 0.3107 - val_accuracy: 0.9252\n",
      "Epoch 53/1000\n",
      " 1/49 [..............................] - ETA: 0s - loss: 0.5782 - accuracy: 0.7734\n",
      "Epoch 53: saving model to model/keypoint_classifier\\keypoint_classifier.hdf5\n",
      "49/49 [==============================] - 0s 2ms/step - loss: 0.6401 - accuracy: 0.7511 - val_loss: 0.2961 - val_accuracy: 0.9358\n",
      "Epoch 54/1000\n",
      " 1/49 [..............................] - ETA: 0s - loss: 0.7226 - accuracy: 0.7344\n",
      "Epoch 54: saving model to model/keypoint_classifier\\keypoint_classifier.hdf5\n",
      "49/49 [==============================] - 0s 2ms/step - loss: 0.6192 - accuracy: 0.7657 - val_loss: 0.2908 - val_accuracy: 0.9310\n",
      "Epoch 55/1000\n",
      " 1/49 [..............................] - ETA: 0s - loss: 0.5861 - accuracy: 0.7734\n",
      "Epoch 55: saving model to model/keypoint_classifier\\keypoint_classifier.hdf5\n",
      "49/49 [==============================] - 0s 2ms/step - loss: 0.6293 - accuracy: 0.7521 - val_loss: 0.2949 - val_accuracy: 0.9291\n",
      "Epoch 56/1000\n",
      " 1/49 [..............................] - ETA: 0s - loss: 0.8869 - accuracy: 0.7422\n",
      "Epoch 56: saving model to model/keypoint_classifier\\keypoint_classifier.hdf5\n",
      "49/49 [==============================] - 0s 2ms/step - loss: 0.6304 - accuracy: 0.7543 - val_loss: 0.2946 - val_accuracy: 0.9329\n",
      "Epoch 57/1000\n",
      " 1/49 [..............................] - ETA: 0s - loss: 0.5631 - accuracy: 0.7734\n",
      "Epoch 57: saving model to model/keypoint_classifier\\keypoint_classifier.hdf5\n",
      "49/49 [==============================] - 0s 2ms/step - loss: 0.6452 - accuracy: 0.7493 - val_loss: 0.3021 - val_accuracy: 0.9300\n"
     ]
    },
    {
     "name": "stdout",
     "output_type": "stream",
     "text": [
      "Epoch 58/1000\n",
      " 1/49 [..............................] - ETA: 0s - loss: 0.7565 - accuracy: 0.7109\n",
      "Epoch 58: saving model to model/keypoint_classifier\\keypoint_classifier.hdf5\n",
      "49/49 [==============================] - 0s 2ms/step - loss: 0.6169 - accuracy: 0.7649 - val_loss: 0.2904 - val_accuracy: 0.9382\n",
      "Epoch 59/1000\n",
      " 1/49 [..............................] - ETA: 0s - loss: 0.4838 - accuracy: 0.7969\n",
      "Epoch 59: saving model to model/keypoint_classifier\\keypoint_classifier.hdf5\n",
      "49/49 [==============================] - 0s 2ms/step - loss: 0.6096 - accuracy: 0.7665 - val_loss: 0.2891 - val_accuracy: 0.9344\n",
      "Epoch 60/1000\n",
      " 1/49 [..............................] - ETA: 0s - loss: 0.7299 - accuracy: 0.7656\n",
      "Epoch 60: saving model to model/keypoint_classifier\\keypoint_classifier.hdf5\n",
      "49/49 [==============================] - 0s 2ms/step - loss: 0.6110 - accuracy: 0.7707 - val_loss: 0.2913 - val_accuracy: 0.9291\n",
      "Epoch 61/1000\n",
      " 1/49 [..............................] - ETA: 0s - loss: 0.5874 - accuracy: 0.7578\n",
      "Epoch 61: saving model to model/keypoint_classifier\\keypoint_classifier.hdf5\n",
      "49/49 [==============================] - 0s 2ms/step - loss: 0.6004 - accuracy: 0.7691 - val_loss: 0.2845 - val_accuracy: 0.9348\n",
      "Epoch 62/1000\n",
      " 1/49 [..............................] - ETA: 0s - loss: 0.5515 - accuracy: 0.8047\n",
      "Epoch 62: saving model to model/keypoint_classifier\\keypoint_classifier.hdf5\n",
      "49/49 [==============================] - 0s 2ms/step - loss: 0.6014 - accuracy: 0.7747 - val_loss: 0.2840 - val_accuracy: 0.9324\n",
      "Epoch 63/1000\n",
      "46/49 [===========================>..] - ETA: 0s - loss: 0.6129 - accuracy: 0.7639\n",
      "Epoch 63: saving model to model/keypoint_classifier\\keypoint_classifier.hdf5\n",
      "49/49 [==============================] - 0s 2ms/step - loss: 0.6080 - accuracy: 0.7659 - val_loss: 0.2931 - val_accuracy: 0.9319\n",
      "Epoch 64/1000\n",
      " 1/49 [..............................] - ETA: 0s - loss: 0.5963 - accuracy: 0.7578\n",
      "Epoch 64: saving model to model/keypoint_classifier\\keypoint_classifier.hdf5\n",
      "49/49 [==============================] - 0s 2ms/step - loss: 0.5923 - accuracy: 0.7800 - val_loss: 0.2752 - val_accuracy: 0.9324\n",
      "Epoch 65/1000\n",
      " 1/49 [..............................] - ETA: 0s - loss: 0.6511 - accuracy: 0.7969\n",
      "Epoch 65: saving model to model/keypoint_classifier\\keypoint_classifier.hdf5\n",
      "49/49 [==============================] - 0s 2ms/step - loss: 0.6039 - accuracy: 0.7802 - val_loss: 0.2763 - val_accuracy: 0.9344\n",
      "Epoch 66/1000\n",
      " 1/49 [..............................] - ETA: 0s - loss: 0.5513 - accuracy: 0.7891\n",
      "Epoch 66: saving model to model/keypoint_classifier\\keypoint_classifier.hdf5\n",
      "49/49 [==============================] - 0s 2ms/step - loss: 0.6035 - accuracy: 0.7731 - val_loss: 0.2880 - val_accuracy: 0.9310\n",
      "Epoch 67/1000\n",
      " 1/49 [..............................] - ETA: 0s - loss: 0.6118 - accuracy: 0.6953\n",
      "Epoch 67: saving model to model/keypoint_classifier\\keypoint_classifier.hdf5\n",
      "49/49 [==============================] - 0s 2ms/step - loss: 0.5983 - accuracy: 0.7759 - val_loss: 0.2799 - val_accuracy: 0.9329\n",
      "Epoch 68/1000\n",
      "49/49 [==============================] - ETA: 0s - loss: 0.6014 - accuracy: 0.7726\n",
      "Epoch 68: saving model to model/keypoint_classifier\\keypoint_classifier.hdf5\n",
      "49/49 [==============================] - 0s 2ms/step - loss: 0.6014 - accuracy: 0.7726 - val_loss: 0.2878 - val_accuracy: 0.9353\n",
      "Epoch 69/1000\n",
      " 1/49 [..............................] - ETA: 0s - loss: 0.4716 - accuracy: 0.8125\n",
      "Epoch 69: saving model to model/keypoint_classifier\\keypoint_classifier.hdf5\n",
      "49/49 [==============================] - 0s 2ms/step - loss: 0.5903 - accuracy: 0.7855 - val_loss: 0.2697 - val_accuracy: 0.9377\n",
      "Epoch 70/1000\n",
      " 1/49 [..............................] - ETA: 0s - loss: 0.6248 - accuracy: 0.7734\n",
      "Epoch 70: saving model to model/keypoint_classifier\\keypoint_classifier.hdf5\n",
      "49/49 [==============================] - 0s 2ms/step - loss: 0.5911 - accuracy: 0.7780 - val_loss: 0.2758 - val_accuracy: 0.9368\n",
      "Epoch 71/1000\n",
      " 1/49 [..............................] - ETA: 0s - loss: 0.5548 - accuracy: 0.7891\n",
      "Epoch 71: saving model to model/keypoint_classifier\\keypoint_classifier.hdf5\n",
      "49/49 [==============================] - 0s 2ms/step - loss: 0.5703 - accuracy: 0.7879 - val_loss: 0.2743 - val_accuracy: 0.9344\n",
      "Epoch 72/1000\n",
      " 1/49 [..............................] - ETA: 0s - loss: 0.4687 - accuracy: 0.8438\n",
      "Epoch 72: saving model to model/keypoint_classifier\\keypoint_classifier.hdf5\n",
      "49/49 [==============================] - 0s 2ms/step - loss: 0.5910 - accuracy: 0.7800 - val_loss: 0.2710 - val_accuracy: 0.9344\n",
      "Epoch 73/1000\n",
      " 1/49 [..............................] - ETA: 0s - loss: 0.5829 - accuracy: 0.7891\n",
      "Epoch 73: saving model to model/keypoint_classifier\\keypoint_classifier.hdf5\n",
      "49/49 [==============================] - 0s 2ms/step - loss: 0.5789 - accuracy: 0.7825 - val_loss: 0.2622 - val_accuracy: 0.9455\n",
      "Epoch 74/1000\n",
      "48/49 [============================>.] - ETA: 0s - loss: 0.5675 - accuracy: 0.7886\n",
      "Epoch 74: saving model to model/keypoint_classifier\\keypoint_classifier.hdf5\n",
      "49/49 [==============================] - 0s 2ms/step - loss: 0.5701 - accuracy: 0.7879 - val_loss: 0.2587 - val_accuracy: 0.9358\n",
      "Epoch 75/1000\n",
      " 1/49 [..............................] - ETA: 0s - loss: 0.6683 - accuracy: 0.7500\n",
      "Epoch 75: saving model to model/keypoint_classifier\\keypoint_classifier.hdf5\n",
      "49/49 [==============================] - 0s 2ms/step - loss: 0.5934 - accuracy: 0.7765 - val_loss: 0.2669 - val_accuracy: 0.9382\n",
      "Epoch 76/1000\n",
      " 1/49 [..............................] - ETA: 0s - loss: 0.6796 - accuracy: 0.7266\n",
      "Epoch 76: saving model to model/keypoint_classifier\\keypoint_classifier.hdf5\n",
      "49/49 [==============================] - 0s 2ms/step - loss: 0.5928 - accuracy: 0.7773 - val_loss: 0.2628 - val_accuracy: 0.9411\n",
      "Epoch 77/1000\n",
      " 1/49 [..............................] - ETA: 0s - loss: 0.5162 - accuracy: 0.7734\n",
      "Epoch 77: saving model to model/keypoint_classifier\\keypoint_classifier.hdf5\n",
      "49/49 [==============================] - 0s 2ms/step - loss: 0.5652 - accuracy: 0.7821 - val_loss: 0.2536 - val_accuracy: 0.9435\n",
      "Epoch 78/1000\n",
      " 1/49 [..............................] - ETA: 0s - loss: 0.5264 - accuracy: 0.7969\n",
      "Epoch 78: saving model to model/keypoint_classifier\\keypoint_classifier.hdf5\n",
      "49/49 [==============================] - 0s 2ms/step - loss: 0.5826 - accuracy: 0.7818 - val_loss: 0.2574 - val_accuracy: 0.9368\n",
      "Epoch 79/1000\n",
      "49/49 [==============================] - ETA: 0s - loss: 0.5775 - accuracy: 0.7834\n",
      "Epoch 79: saving model to model/keypoint_classifier\\keypoint_classifier.hdf5\n",
      "49/49 [==============================] - 0s 2ms/step - loss: 0.5775 - accuracy: 0.7834 - val_loss: 0.2517 - val_accuracy: 0.9440\n",
      "Epoch 80/1000\n",
      " 1/49 [..............................] - ETA: 0s - loss: 0.5612 - accuracy: 0.7422\n",
      "Epoch 80: saving model to model/keypoint_classifier\\keypoint_classifier.hdf5\n",
      "49/49 [==============================] - 0s 2ms/step - loss: 0.5718 - accuracy: 0.7802 - val_loss: 0.2667 - val_accuracy: 0.9411\n",
      "Epoch 81/1000\n",
      " 1/49 [..............................] - ETA: 0s - loss: 0.6326 - accuracy: 0.7734\n",
      "Epoch 81: saving model to model/keypoint_classifier\\keypoint_classifier.hdf5\n",
      "49/49 [==============================] - 0s 2ms/step - loss: 0.5784 - accuracy: 0.7825 - val_loss: 0.2630 - val_accuracy: 0.9402\n",
      "Epoch 82/1000\n",
      " 1/49 [..............................] - ETA: 0s - loss: 0.5013 - accuracy: 0.8047\n",
      "Epoch 82: saving model to model/keypoint_classifier\\keypoint_classifier.hdf5\n",
      "49/49 [==============================] - 0s 2ms/step - loss: 0.5624 - accuracy: 0.7897 - val_loss: 0.2560 - val_accuracy: 0.9387\n",
      "Epoch 83/1000\n",
      " 1/49 [..............................] - ETA: 0s - loss: 0.7770 - accuracy: 0.7031\n",
      "Epoch 83: saving model to model/keypoint_classifier\\keypoint_classifier.hdf5\n",
      "49/49 [==============================] - 0s 2ms/step - loss: 0.5626 - accuracy: 0.7860 - val_loss: 0.2492 - val_accuracy: 0.9450\n",
      "Epoch 84/1000\n",
      " 1/49 [..............................] - ETA: 0s - loss: 0.4801 - accuracy: 0.8203\n",
      "Epoch 84: saving model to model/keypoint_classifier\\keypoint_classifier.hdf5\n",
      "49/49 [==============================] - 0s 2ms/step - loss: 0.5709 - accuracy: 0.7908 - val_loss: 0.2581 - val_accuracy: 0.9411\n",
      "Epoch 85/1000\n"
     ]
    },
    {
     "name": "stdout",
     "output_type": "stream",
     "text": [
      "49/49 [==============================] - ETA: 0s - loss: 0.5441 - accuracy: 0.8013\n",
      "Epoch 85: saving model to model/keypoint_classifier\\keypoint_classifier.hdf5\n",
      "49/49 [==============================] - 0s 2ms/step - loss: 0.5441 - accuracy: 0.8013 - val_loss: 0.2452 - val_accuracy: 0.9416\n",
      "Epoch 86/1000\n",
      " 1/49 [..............................] - ETA: 0s - loss: 0.6188 - accuracy: 0.7734\n",
      "Epoch 86: saving model to model/keypoint_classifier\\keypoint_classifier.hdf5\n",
      "49/49 [==============================] - 0s 2ms/step - loss: 0.5637 - accuracy: 0.7924 - val_loss: 0.2518 - val_accuracy: 0.9416\n",
      "Epoch 87/1000\n",
      " 1/49 [..............................] - ETA: 0s - loss: 0.5816 - accuracy: 0.7500\n",
      "Epoch 87: saving model to model/keypoint_classifier\\keypoint_classifier.hdf5\n",
      "49/49 [==============================] - 0s 2ms/step - loss: 0.5767 - accuracy: 0.7810 - val_loss: 0.2500 - val_accuracy: 0.9459\n",
      "Epoch 88/1000\n",
      " 1/49 [..............................] - ETA: 0s - loss: 0.4845 - accuracy: 0.8438\n",
      "Epoch 88: saving model to model/keypoint_classifier\\keypoint_classifier.hdf5\n",
      "49/49 [==============================] - 0s 2ms/step - loss: 0.5589 - accuracy: 0.7918 - val_loss: 0.2476 - val_accuracy: 0.9450\n",
      "Epoch 89/1000\n",
      " 1/49 [..............................] - ETA: 0s - loss: 0.4448 - accuracy: 0.8516\n",
      "Epoch 89: saving model to model/keypoint_classifier\\keypoint_classifier.hdf5\n",
      "49/49 [==============================] - 0s 2ms/step - loss: 0.5559 - accuracy: 0.7982 - val_loss: 0.2537 - val_accuracy: 0.9392\n",
      "Epoch 90/1000\n",
      "47/49 [===========================>..] - ETA: 0s - loss: 0.5499 - accuracy: 0.7975\n",
      "Epoch 90: saving model to model/keypoint_classifier\\keypoint_classifier.hdf5\n",
      "49/49 [==============================] - 0s 2ms/step - loss: 0.5527 - accuracy: 0.7961 - val_loss: 0.2497 - val_accuracy: 0.9426\n",
      "Epoch 91/1000\n",
      " 1/49 [..............................] - ETA: 0s - loss: 0.6121 - accuracy: 0.7969\n",
      "Epoch 91: saving model to model/keypoint_classifier\\keypoint_classifier.hdf5\n",
      "49/49 [==============================] - 0s 2ms/step - loss: 0.5555 - accuracy: 0.7905 - val_loss: 0.2494 - val_accuracy: 0.9455\n",
      "Epoch 92/1000\n",
      " 1/49 [..............................] - ETA: 0s - loss: 0.5262 - accuracy: 0.7891\n",
      "Epoch 92: saving model to model/keypoint_classifier\\keypoint_classifier.hdf5\n",
      "49/49 [==============================] - 0s 2ms/step - loss: 0.5467 - accuracy: 0.7931 - val_loss: 0.2470 - val_accuracy: 0.9411\n",
      "Epoch 93/1000\n",
      "49/49 [==============================] - ETA: 0s - loss: 0.5530 - accuracy: 0.7932\n",
      "Epoch 93: saving model to model/keypoint_classifier\\keypoint_classifier.hdf5\n",
      "49/49 [==============================] - 0s 2ms/step - loss: 0.5530 - accuracy: 0.7932 - val_loss: 0.2478 - val_accuracy: 0.9450\n",
      "Epoch 94/1000\n",
      "49/49 [==============================] - ETA: 0s - loss: 0.5431 - accuracy: 0.7989\n",
      "Epoch 94: saving model to model/keypoint_classifier\\keypoint_classifier.hdf5\n",
      "49/49 [==============================] - 0s 2ms/step - loss: 0.5431 - accuracy: 0.7989 - val_loss: 0.2457 - val_accuracy: 0.9426\n",
      "Epoch 95/1000\n",
      "46/49 [===========================>..] - ETA: 0s - loss: 0.5491 - accuracy: 0.7981\n",
      "Epoch 95: saving model to model/keypoint_classifier\\keypoint_classifier.hdf5\n",
      "49/49 [==============================] - 0s 2ms/step - loss: 0.5459 - accuracy: 0.7990 - val_loss: 0.2497 - val_accuracy: 0.9406\n",
      "Epoch 96/1000\n",
      " 1/49 [..............................] - ETA: 0s - loss: 0.6621 - accuracy: 0.7734\n",
      "Epoch 96: saving model to model/keypoint_classifier\\keypoint_classifier.hdf5\n",
      "49/49 [==============================] - 0s 2ms/step - loss: 0.5474 - accuracy: 0.7969 - val_loss: 0.2442 - val_accuracy: 0.9416\n",
      "Epoch 97/1000\n",
      " 1/49 [..............................] - ETA: 0s - loss: 0.3631 - accuracy: 0.8594\n",
      "Epoch 97: saving model to model/keypoint_classifier\\keypoint_classifier.hdf5\n",
      "49/49 [==============================] - 0s 2ms/step - loss: 0.5354 - accuracy: 0.8013 - val_loss: 0.2430 - val_accuracy: 0.9455\n",
      "Epoch 98/1000\n",
      " 1/49 [..............................] - ETA: 0s - loss: 0.5994 - accuracy: 0.8125\n",
      "Epoch 98: saving model to model/keypoint_classifier\\keypoint_classifier.hdf5\n",
      "49/49 [==============================] - 0s 2ms/step - loss: 0.5348 - accuracy: 0.7990 - val_loss: 0.2444 - val_accuracy: 0.9426\n",
      "Epoch 99/1000\n",
      " 1/49 [..............................] - ETA: 0s - loss: 0.5825 - accuracy: 0.7812\n",
      "Epoch 99: saving model to model/keypoint_classifier\\keypoint_classifier.hdf5\n",
      "49/49 [==============================] - 0s 2ms/step - loss: 0.5428 - accuracy: 0.7929 - val_loss: 0.2480 - val_accuracy: 0.9479\n",
      "Epoch 100/1000\n",
      " 1/49 [..............................] - ETA: 0s - loss: 0.5331 - accuracy: 0.7891\n",
      "Epoch 100: saving model to model/keypoint_classifier\\keypoint_classifier.hdf5\n",
      "49/49 [==============================] - 0s 2ms/step - loss: 0.5313 - accuracy: 0.8040 - val_loss: 0.2439 - val_accuracy: 0.9392\n",
      "Epoch 101/1000\n",
      " 1/49 [..............................] - ETA: 0s - loss: 0.5860 - accuracy: 0.7656\n",
      "Epoch 101: saving model to model/keypoint_classifier\\keypoint_classifier.hdf5\n",
      "49/49 [==============================] - 0s 2ms/step - loss: 0.5490 - accuracy: 0.7989 - val_loss: 0.2421 - val_accuracy: 0.9402\n",
      "Epoch 102/1000\n",
      " 1/49 [..............................] - ETA: 0s - loss: 0.6094 - accuracy: 0.8438\n",
      "Epoch 102: saving model to model/keypoint_classifier\\keypoint_classifier.hdf5\n",
      "49/49 [==============================] - 0s 2ms/step - loss: 0.5357 - accuracy: 0.8003 - val_loss: 0.2391 - val_accuracy: 0.9421\n",
      "Epoch 103/1000\n",
      " 1/49 [..............................] - ETA: 0s - loss: 0.4793 - accuracy: 0.8047\n",
      "Epoch 103: saving model to model/keypoint_classifier\\keypoint_classifier.hdf5\n",
      "49/49 [==============================] - 0s 2ms/step - loss: 0.5324 - accuracy: 0.7998 - val_loss: 0.2438 - val_accuracy: 0.9402\n",
      "Epoch 104/1000\n",
      " 1/49 [..............................] - ETA: 0s - loss: 0.4282 - accuracy: 0.8594\n",
      "Epoch 104: saving model to model/keypoint_classifier\\keypoint_classifier.hdf5\n",
      "49/49 [==============================] - 0s 2ms/step - loss: 0.5421 - accuracy: 0.7961 - val_loss: 0.2440 - val_accuracy: 0.9455\n",
      "Epoch 105/1000\n",
      "49/49 [==============================] - ETA: 0s - loss: 0.5463 - accuracy: 0.7918\n",
      "Epoch 105: saving model to model/keypoint_classifier\\keypoint_classifier.hdf5\n",
      "49/49 [==============================] - 0s 2ms/step - loss: 0.5463 - accuracy: 0.7918 - val_loss: 0.2435 - val_accuracy: 0.9411\n",
      "Epoch 106/1000\n",
      " 1/49 [..............................] - ETA: 0s - loss: 0.7383 - accuracy: 0.7344\n",
      "Epoch 106: saving model to model/keypoint_classifier\\keypoint_classifier.hdf5\n",
      "49/49 [==============================] - 0s 2ms/step - loss: 0.5376 - accuracy: 0.7998 - val_loss: 0.2441 - val_accuracy: 0.9488\n",
      "Epoch 107/1000\n",
      "49/49 [==============================] - ETA: 0s - loss: 0.5378 - accuracy: 0.7997\n",
      "Epoch 107: saving model to model/keypoint_classifier\\keypoint_classifier.hdf5\n",
      "49/49 [==============================] - 0s 2ms/step - loss: 0.5378 - accuracy: 0.7997 - val_loss: 0.2467 - val_accuracy: 0.9450\n",
      "Epoch 108/1000\n",
      " 1/49 [..............................] - ETA: 0s - loss: 0.5394 - accuracy: 0.8047\n",
      "Epoch 108: saving model to model/keypoint_classifier\\keypoint_classifier.hdf5\n",
      "49/49 [==============================] - 0s 2ms/step - loss: 0.5263 - accuracy: 0.7987 - val_loss: 0.2391 - val_accuracy: 0.9464\n",
      "Epoch 109/1000\n",
      " 1/49 [..............................] - ETA: 0s - loss: 0.6810 - accuracy: 0.7734\n",
      "Epoch 109: saving model to model/keypoint_classifier\\keypoint_classifier.hdf5\n",
      "49/49 [==============================] - 0s 2ms/step - loss: 0.5382 - accuracy: 0.7957 - val_loss: 0.2407 - val_accuracy: 0.9469\n",
      "Epoch 110/1000\n",
      " 1/49 [..............................] - ETA: 0s - loss: 0.5999 - accuracy: 0.7734\n",
      "Epoch 110: saving model to model/keypoint_classifier\\keypoint_classifier.hdf5\n",
      "49/49 [==============================] - 0s 2ms/step - loss: 0.5436 - accuracy: 0.8031 - val_loss: 0.2327 - val_accuracy: 0.9455\n",
      "Epoch 111/1000\n",
      " 1/49 [..............................] - ETA: 0s - loss: 0.7180 - accuracy: 0.8047\n",
      "Epoch 111: saving model to model/keypoint_classifier\\keypoint_classifier.hdf5\n",
      "49/49 [==============================] - 0s 2ms/step - loss: 0.5433 - accuracy: 0.8019 - val_loss: 0.2585 - val_accuracy: 0.9377\n",
      "Epoch 112/1000\n"
     ]
    },
    {
     "name": "stdout",
     "output_type": "stream",
     "text": [
      " 1/49 [..............................] - ETA: 0s - loss: 0.5681 - accuracy: 0.7812\n",
      "Epoch 112: saving model to model/keypoint_classifier\\keypoint_classifier.hdf5\n",
      "49/49 [==============================] - 0s 2ms/step - loss: 0.5323 - accuracy: 0.8060 - val_loss: 0.2392 - val_accuracy: 0.9445\n",
      "Epoch 113/1000\n",
      " 1/49 [..............................] - ETA: 0s - loss: 0.5771 - accuracy: 0.7734\n",
      "Epoch 113: saving model to model/keypoint_classifier\\keypoint_classifier.hdf5\n",
      "49/49 [==============================] - 0s 2ms/step - loss: 0.5347 - accuracy: 0.7992 - val_loss: 0.2452 - val_accuracy: 0.9455\n",
      "Epoch 114/1000\n",
      " 1/49 [..............................] - ETA: 0s - loss: 0.5340 - accuracy: 0.8438\n",
      "Epoch 114: saving model to model/keypoint_classifier\\keypoint_classifier.hdf5\n",
      "49/49 [==============================] - 0s 2ms/step - loss: 0.5223 - accuracy: 0.8016 - val_loss: 0.2448 - val_accuracy: 0.9411\n",
      "Epoch 115/1000\n",
      " 1/49 [..............................] - ETA: 0s - loss: 0.4589 - accuracy: 0.8125\n",
      "Epoch 115: saving model to model/keypoint_classifier\\keypoint_classifier.hdf5\n",
      "49/49 [==============================] - 0s 2ms/step - loss: 0.5245 - accuracy: 0.8097 - val_loss: 0.2429 - val_accuracy: 0.9431\n",
      "Epoch 116/1000\n",
      " 1/49 [..............................] - ETA: 0s - loss: 0.5954 - accuracy: 0.8047\n",
      "Epoch 116: saving model to model/keypoint_classifier\\keypoint_classifier.hdf5\n",
      "49/49 [==============================] - 0s 2ms/step - loss: 0.5165 - accuracy: 0.8034 - val_loss: 0.2358 - val_accuracy: 0.9445\n",
      "Epoch 117/1000\n",
      " 1/49 [..............................] - ETA: 0s - loss: 0.5548 - accuracy: 0.8125\n",
      "Epoch 117: saving model to model/keypoint_classifier\\keypoint_classifier.hdf5\n",
      "49/49 [==============================] - 0s 2ms/step - loss: 0.5202 - accuracy: 0.8053 - val_loss: 0.2426 - val_accuracy: 0.9373\n",
      "Epoch 118/1000\n",
      " 1/49 [..............................] - ETA: 0s - loss: 0.5559 - accuracy: 0.8203\n",
      "Epoch 118: saving model to model/keypoint_classifier\\keypoint_classifier.hdf5\n",
      "49/49 [==============================] - 0s 2ms/step - loss: 0.5356 - accuracy: 0.8031 - val_loss: 0.2377 - val_accuracy: 0.9406\n",
      "Epoch 119/1000\n",
      "49/49 [==============================] - ETA: 0s - loss: 0.5171 - accuracy: 0.8013\n",
      "Epoch 119: saving model to model/keypoint_classifier\\keypoint_classifier.hdf5\n",
      "49/49 [==============================] - 0s 2ms/step - loss: 0.5171 - accuracy: 0.8013 - val_loss: 0.2378 - val_accuracy: 0.9435\n",
      "Epoch 120/1000\n",
      " 1/49 [..............................] - ETA: 0s - loss: 0.5923 - accuracy: 0.7734\n",
      "Epoch 120: saving model to model/keypoint_classifier\\keypoint_classifier.hdf5\n",
      "49/49 [==============================] - 0s 2ms/step - loss: 0.5293 - accuracy: 0.8035 - val_loss: 0.2395 - val_accuracy: 0.9445\n",
      "Epoch 121/1000\n",
      "46/49 [===========================>..] - ETA: 0s - loss: 0.5165 - accuracy: 0.8032\n",
      "Epoch 121: saving model to model/keypoint_classifier\\keypoint_classifier.hdf5\n",
      "49/49 [==============================] - 0s 2ms/step - loss: 0.5153 - accuracy: 0.8032 - val_loss: 0.2354 - val_accuracy: 0.9392\n",
      "Epoch 122/1000\n",
      "45/49 [==========================>...] - ETA: 0s - loss: 0.5079 - accuracy: 0.8102\n",
      "Epoch 122: saving model to model/keypoint_classifier\\keypoint_classifier.hdf5\n",
      "49/49 [==============================] - 0s 2ms/step - loss: 0.5174 - accuracy: 0.8066 - val_loss: 0.2310 - val_accuracy: 0.9421\n",
      "Epoch 123/1000\n",
      " 1/49 [..............................] - ETA: 0s - loss: 0.5351 - accuracy: 0.7812\n",
      "Epoch 123: saving model to model/keypoint_classifier\\keypoint_classifier.hdf5\n",
      "49/49 [==============================] - 0s 2ms/step - loss: 0.5199 - accuracy: 0.8014 - val_loss: 0.2428 - val_accuracy: 0.9426\n",
      "Epoch 124/1000\n",
      " 1/49 [..............................] - ETA: 0s - loss: 0.5103 - accuracy: 0.7812\n",
      "Epoch 124: saving model to model/keypoint_classifier\\keypoint_classifier.hdf5\n",
      "49/49 [==============================] - 0s 2ms/step - loss: 0.5314 - accuracy: 0.7982 - val_loss: 0.2414 - val_accuracy: 0.9445\n",
      "Epoch 125/1000\n",
      " 1/49 [..............................] - ETA: 0s - loss: 0.5609 - accuracy: 0.8203\n",
      "Epoch 125: saving model to model/keypoint_classifier\\keypoint_classifier.hdf5\n",
      "49/49 [==============================] - 0s 2ms/step - loss: 0.5219 - accuracy: 0.8013 - val_loss: 0.2307 - val_accuracy: 0.9484\n",
      "Epoch 126/1000\n",
      "49/49 [==============================] - ETA: 0s - loss: 0.5197 - accuracy: 0.8050\n",
      "Epoch 126: saving model to model/keypoint_classifier\\keypoint_classifier.hdf5\n",
      "49/49 [==============================] - 0s 2ms/step - loss: 0.5197 - accuracy: 0.8050 - val_loss: 0.2502 - val_accuracy: 0.9402\n",
      "Epoch 127/1000\n",
      "47/49 [===========================>..] - ETA: 0s - loss: 0.5130 - accuracy: 0.8014\n",
      "Epoch 127: saving model to model/keypoint_classifier\\keypoint_classifier.hdf5\n",
      "49/49 [==============================] - 0s 2ms/step - loss: 0.5151 - accuracy: 0.8005 - val_loss: 0.2343 - val_accuracy: 0.9421\n",
      "Epoch 128/1000\n",
      " 1/49 [..............................] - ETA: 0s - loss: 0.5310 - accuracy: 0.7656\n",
      "Epoch 128: saving model to model/keypoint_classifier\\keypoint_classifier.hdf5\n",
      "49/49 [==============================] - 0s 2ms/step - loss: 0.5263 - accuracy: 0.8002 - val_loss: 0.2439 - val_accuracy: 0.9426\n",
      "Epoch 129/1000\n",
      " 1/49 [..............................] - ETA: 0s - loss: 0.5183 - accuracy: 0.8203\n",
      "Epoch 129: saving model to model/keypoint_classifier\\keypoint_classifier.hdf5\n",
      "49/49 [==============================] - 0s 2ms/step - loss: 0.5207 - accuracy: 0.8047 - val_loss: 0.2313 - val_accuracy: 0.9479\n",
      "Epoch 130/1000\n",
      " 1/49 [..............................] - ETA: 0s - loss: 0.5312 - accuracy: 0.8047\n",
      "Epoch 130: saving model to model/keypoint_classifier\\keypoint_classifier.hdf5\n",
      "49/49 [==============================] - 0s 2ms/step - loss: 0.5146 - accuracy: 0.8076 - val_loss: 0.2322 - val_accuracy: 0.9484\n",
      "Epoch 131/1000\n",
      " 1/49 [..............................] - ETA: 0s - loss: 0.5032 - accuracy: 0.7969\n",
      "Epoch 131: saving model to model/keypoint_classifier\\keypoint_classifier.hdf5\n",
      "49/49 [==============================] - 0s 2ms/step - loss: 0.5298 - accuracy: 0.8061 - val_loss: 0.2433 - val_accuracy: 0.9421\n",
      "Epoch 132/1000\n",
      " 1/49 [..............................] - ETA: 0s - loss: 0.5653 - accuracy: 0.7188\n",
      "Epoch 132: saving model to model/keypoint_classifier\\keypoint_classifier.hdf5\n",
      "49/49 [==============================] - 0s 2ms/step - loss: 0.5162 - accuracy: 0.8087 - val_loss: 0.2398 - val_accuracy: 0.9426\n",
      "Epoch 133/1000\n",
      "47/49 [===========================>..] - ETA: 0s - loss: 0.5111 - accuracy: 0.8077\n",
      "Epoch 133: saving model to model/keypoint_classifier\\keypoint_classifier.hdf5\n",
      "49/49 [==============================] - 0s 2ms/step - loss: 0.5164 - accuracy: 0.8071 - val_loss: 0.2434 - val_accuracy: 0.9402\n",
      "Epoch 134/1000\n",
      " 1/49 [..............................] - ETA: 0s - loss: 0.6003 - accuracy: 0.7500\n",
      "Epoch 134: saving model to model/keypoint_classifier\\keypoint_classifier.hdf5\n",
      "49/49 [==============================] - 0s 2ms/step - loss: 0.5120 - accuracy: 0.8097 - val_loss: 0.2360 - val_accuracy: 0.9459\n",
      "Epoch 135/1000\n",
      " 1/49 [..............................] - ETA: 0s - loss: 0.5504 - accuracy: 0.7500\n",
      "Epoch 135: saving model to model/keypoint_classifier\\keypoint_classifier.hdf5\n",
      "49/49 [==============================] - 0s 2ms/step - loss: 0.5162 - accuracy: 0.8085 - val_loss: 0.2341 - val_accuracy: 0.9459\n",
      "Epoch 136/1000\n",
      "49/49 [==============================] - ETA: 0s - loss: 0.5070 - accuracy: 0.8088\n",
      "Epoch 136: saving model to model/keypoint_classifier\\keypoint_classifier.hdf5\n",
      "49/49 [==============================] - 0s 2ms/step - loss: 0.5070 - accuracy: 0.8088 - val_loss: 0.2408 - val_accuracy: 0.9411\n",
      "Epoch 137/1000\n",
      " 1/49 [..............................] - ETA: 0s - loss: 0.4983 - accuracy: 0.7656\n",
      "Epoch 137: saving model to model/keypoint_classifier\\keypoint_classifier.hdf5\n",
      "49/49 [==============================] - 0s 2ms/step - loss: 0.5139 - accuracy: 0.8069 - val_loss: 0.2435 - val_accuracy: 0.9445\n",
      "Epoch 138/1000\n",
      "48/49 [============================>.] - ETA: 0s - loss: 0.5138 - accuracy: 0.8047\n",
      "Epoch 138: saving model to model/keypoint_classifier\\keypoint_classifier.hdf5\n",
      "49/49 [==============================] - 0s 2ms/step - loss: 0.5131 - accuracy: 0.8048 - val_loss: 0.2310 - val_accuracy: 0.9450\n"
     ]
    },
    {
     "name": "stdout",
     "output_type": "stream",
     "text": [
      "Epoch 139/1000\n",
      " 1/49 [..............................] - ETA: 0s - loss: 0.4744 - accuracy: 0.8203\n",
      "Epoch 139: saving model to model/keypoint_classifier\\keypoint_classifier.hdf5\n",
      "49/49 [==============================] - 0s 2ms/step - loss: 0.5063 - accuracy: 0.8119 - val_loss: 0.2326 - val_accuracy: 0.9464\n",
      "Epoch 140/1000\n",
      " 1/49 [..............................] - ETA: 0s - loss: 0.5949 - accuracy: 0.7891\n",
      "Epoch 140: saving model to model/keypoint_classifier\\keypoint_classifier.hdf5\n",
      "49/49 [==============================] - 0s 2ms/step - loss: 0.5041 - accuracy: 0.8124 - val_loss: 0.2347 - val_accuracy: 0.9445\n",
      "Epoch 141/1000\n",
      " 1/49 [..............................] - ETA: 0s - loss: 0.4857 - accuracy: 0.8047\n",
      "Epoch 141: saving model to model/keypoint_classifier\\keypoint_classifier.hdf5\n",
      "49/49 [==============================] - 0s 2ms/step - loss: 0.4918 - accuracy: 0.8119 - val_loss: 0.2351 - val_accuracy: 0.9416\n",
      "Epoch 142/1000\n",
      " 1/49 [..............................] - ETA: 0s - loss: 0.5048 - accuracy: 0.7891\n",
      "Epoch 142: saving model to model/keypoint_classifier\\keypoint_classifier.hdf5\n",
      "49/49 [==============================] - 0s 2ms/step - loss: 0.5216 - accuracy: 0.8066 - val_loss: 0.2394 - val_accuracy: 0.9421\n",
      "Epoch 143/1000\n",
      " 1/49 [..............................] - ETA: 0s - loss: 0.4588 - accuracy: 0.8359\n",
      "Epoch 143: saving model to model/keypoint_classifier\\keypoint_classifier.hdf5\n",
      "49/49 [==============================] - 0s 2ms/step - loss: 0.5049 - accuracy: 0.8150 - val_loss: 0.2381 - val_accuracy: 0.9416\n",
      "Epoch 144/1000\n",
      " 1/49 [..............................] - ETA: 0s - loss: 0.6343 - accuracy: 0.7969\n",
      "Epoch 144: saving model to model/keypoint_classifier\\keypoint_classifier.hdf5\n",
      "49/49 [==============================] - 0s 2ms/step - loss: 0.5232 - accuracy: 0.8093 - val_loss: 0.2415 - val_accuracy: 0.9416\n",
      "Epoch 145/1000\n",
      " 1/49 [..............................] - ETA: 0s - loss: 0.4557 - accuracy: 0.8594\n",
      "Epoch 145: saving model to model/keypoint_classifier\\keypoint_classifier.hdf5\n",
      "49/49 [==============================] - 0s 2ms/step - loss: 0.5180 - accuracy: 0.8082 - val_loss: 0.2483 - val_accuracy: 0.9416\n",
      "Epoch 145: early stopping\n"
     ]
    },
    {
     "data": {
      "text/plain": [
       "<keras.src.callbacks.History at 0x27414fe8950>"
      ]
     },
     "execution_count": 11,
     "metadata": {},
     "output_type": "execute_result"
    }
   ],
   "source": [
    "model.fit(\n",
    "    X_train,\n",
    "    y_train,\n",
    "    epochs=1000,\n",
    "    batch_size=128,\n",
    "    validation_data=(X_test, y_test),\n",
    "    callbacks=[cp_callback, es_callback]\n",
    ")"
   ]
  },
  {
   "cell_type": "code",
   "execution_count": 12,
   "metadata": {},
   "outputs": [
    {
     "name": "stdout",
     "output_type": "stream",
     "text": [
      "17/17 [==============================] - 0s 748us/step - loss: 0.2483 - accuracy: 0.9416\n"
     ]
    }
   ],
   "source": [
    "# 模型评价\n",
    "val_loss, val_acc = model.evaluate(X_test, y_test, batch_size=128)"
   ]
  },
  {
   "cell_type": "code",
   "execution_count": 13,
   "metadata": {},
   "outputs": [],
   "source": [
    "# 保存的模型的载入\n",
    "model = tf.keras.models.load_model(model_save_path)"
   ]
  },
  {
   "cell_type": "code",
   "execution_count": 14,
   "metadata": {},
   "outputs": [
    {
     "name": "stdout",
     "output_type": "stream",
     "text": [
      "1/1 [==============================] - 0s 59ms/step\n",
      "[9.6645852e-04 6.2202346e-03 1.3528887e-05 6.9319946e-01 2.9960024e-01\n",
      " 4.5435264e-10]\n",
      "3\n"
     ]
    }
   ],
   "source": [
    "# 推理测试\n",
    "predict_result = model.predict(np.array([X_test[0]]))\n",
    "print(np.squeeze(predict_result))\n",
    "print(np.argmax(np.squeeze(predict_result)))"
   ]
  },
  {
   "cell_type": "markdown",
   "metadata": {},
   "source": [
    "# 混淆矩阵"
   ]
  },
  {
   "cell_type": "code",
   "execution_count": 15,
   "metadata": {},
   "outputs": [
    {
     "name": "stdout",
     "output_type": "stream",
     "text": [
      "65/65 [==============================] - 0s 701us/step\n"
     ]
    },
    {
     "data": {
      "image/png": "[encoded data removed]",
      "text/plain": [
       "<Figure size 700x600 with 2 Axes>"
      ]
     },
     "metadata": {},
     "output_type": "display_data"
    },
    {
     "name": "stdout",
     "output_type": "stream",
     "text": [
      "Classification Report\n",
      "              precision    recall  f1-score   support\n",
      "\n",
      "           0       0.88      0.95      0.91       355\n",
      "           1       0.98      0.85      0.91       406\n",
      "           2       0.86      0.87      0.87       314\n",
      "           3       0.97      0.99      0.98       377\n",
      "           4       0.98      1.00      0.99       303\n",
      "           5       0.98      1.00      0.99       317\n",
      "\n",
      "    accuracy                           0.94      2072\n",
      "   macro avg       0.94      0.94      0.94      2072\n",
      "weighted avg       0.94      0.94      0.94      2072\n",
      "\n"
     ]
    }
   ],
   "source": [
    "import pandas as pd\n",
    "import seaborn as sns\n",
    "import matplotlib.pyplot as plt\n",
    "from sklearn.metrics import confusion_matrix, classification_report\n",
    "\n",
    "def print_confusion_matrix(y_true, y_pred, report=True):\n",
    "    labels = sorted(list(set(y_true)))\n",
    "    cmx_data = confusion_matrix(y_true, y_pred, labels=labels)\n",
    "    \n",
    "    df_cmx = pd.DataFrame(cmx_data, index=labels, columns=labels)\n",
    " \n",
    "    fig, ax = plt.subplots(figsize=(7, 6))\n",
    "    sns.heatmap(df_cmx, annot=True, fmt='g' ,square=False)\n",
    "    ax.set_ylim(len(set(y_true)), 0)\n",
    "    plt.show()\n",
    "    \n",
    "    if report:\n",
    "        print('Classification Report')\n",
    "        print(classification_report(y_test, y_pred))\n",
    "\n",
    "Y_pred = model.predict(X_test)\n",
    "y_pred = np.argmax(Y_pred, axis=1)\n",
    "\n",
    "print_confusion_matrix(y_test, y_pred)"
   ]
  },
  {
   "cell_type": "markdown",
   "metadata": {},
   "source": [
    "# 转换为Tensorflow-Lite模型"
   ]
  },
  {
   "cell_type": "code",
   "execution_count": 16,
   "metadata": {},
   "outputs": [
    {
     "name": "stderr",
     "output_type": "stream",
     "text": [
      "D:\\anaconda\\envs\\cv311\\Lib\\site-packages\\keras\\src\\engine\\training.py:3103: UserWarning: You are saving your model as an HDF5 file via `model.save()`. This file format is considered legacy. We recommend using instead the native Keras format, e.g. `model.save('my_model.keras')`.\n",
      "  saving_api.save_model(\n"
     ]
    }
   ],
   "source": [
    "# 作为推理专用模型保存\n",
    "model.save(model_save_path, include_optimizer=False)"
   ]
  },
  {
   "cell_type": "code",
   "execution_count": 17,
   "metadata": {},
   "outputs": [
    {
     "name": "stdout",
     "output_type": "stream",
     "text": [
      "INFO:tensorflow:Assets written to: C:\\Users\\jiyan\\AppData\\Local\\Temp\\tmp4ie9ask6\\assets\n"
     ]
    },
    {
     "name": "stderr",
     "output_type": "stream",
     "text": [
      "INFO:tensorflow:Assets written to: C:\\Users\\jiyan\\AppData\\Local\\Temp\\tmp4ie9ask6\\assets\n"
     ]
    },
    {
     "data": {
      "text/plain": [
       "6632"
      ]
     },
     "execution_count": 17,
     "metadata": {},
     "output_type": "execute_result"
    }
   ],
   "source": [
    "# 变换模型(量化)\n",
    "tflite_save_path = 'model/keypoint_classifier/keypoint_classifier.tflite'\n",
    "\n",
    "converter = tf.lite.TFLiteConverter.from_keras_model(model)\n",
    "converter.optimizations = [tf.lite.Optimize.DEFAULT]\n",
    "tflite_quantized_model = converter.convert()\n",
    "\n",
    "open(tflite_save_path, 'wb').write(tflite_quantized_model)"
   ]
  },
  {
   "cell_type": "markdown",
   "metadata": {},
   "source": [
    "# 推理测试"
   ]
  },
  {
   "cell_type": "code",
   "execution_count": 18,
   "metadata": {},
   "outputs": [],
   "source": [
    "interpreter = tf.lite.Interpreter(model_path=tflite_save_path)\n",
    "interpreter.allocate_tensors()"
   ]
  },
  {
   "cell_type": "code",
   "execution_count": 19,
   "metadata": {},
   "outputs": [],
   "source": [
    "# 获取输入/输出张量\n",
    "input_details = interpreter.get_input_details()\n",
    "output_details = interpreter.get_output_details()"
   ]
  },
  {
   "cell_type": "code",
   "execution_count": 20,
   "metadata": {},
   "outputs": [],
   "source": [
    "interpreter.set_tensor(input_details[0]['index'], np.array([X_test[0]]))"
   ]
  },
  {
   "cell_type": "code",
   "execution_count": 21,
   "metadata": {
    "scrolled": true
   },
   "outputs": [
    {
     "name": "stdout",
     "output_type": "stream",
     "text": [
      "CPU times: total: 0 ns\n",
      "Wall time: 0 ns\n"
     ]
    }
   ],
   "source": [
    "%%time\n",
    "# 推论实施\n",
    "interpreter.invoke()\n",
    "tflite_results = interpreter.get_tensor(output_details[0]['index'])"
   ]
  },
  {
   "cell_type": "code",
   "execution_count": 22,
   "metadata": {},
   "outputs": [
    {
     "name": "stdout",
     "output_type": "stream",
     "text": [
      "[9.6645771e-04 6.2202448e-03 1.3528902e-05 6.9319957e-01 2.9960015e-01\n",
      " 4.5435355e-10]\n",
      "3\n"
     ]
    }
   ],
   "source": [
    "print(np.squeeze(tflite_results))\n",
    "print(np.argmax(np.squeeze(tflite_results)))"
   ]
  }
 ],
 "metadata": {
  "kernelspec": {
   "display_name": "cv311",
   "language": "python",
   "name": "cv311"
  },
  "language_info": {
   "codemirror_mode": {
    "name": "ipython",
    "version": 3
   },
   "file_extension": ".py",
   "mimetype": "text/x-python",
   "name": "python",
   "nbconvert_exporter": "python",
   "pygments_lexer": "ipython3",
   "version": "3.11.6"
  }
 },
 "nbformat": 4,
 "nbformat_minor": 4
}
